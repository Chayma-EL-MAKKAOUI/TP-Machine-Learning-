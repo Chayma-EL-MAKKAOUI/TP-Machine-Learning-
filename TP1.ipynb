{
 "cells": [
  {
   "cell_type": "code",
   "execution_count": 5,
   "id": "8ec1a918-029b-408d-8109-6604cecfc9a6",
   "metadata": {},
   "outputs": [],
   "source": [
    "import gymnasium as gym "
   ]
  },
  {
   "cell_type": "code",
   "execution_count": 7,
   "id": "42276b2c-7aae-496d-95eb-255afdd5abfb",
   "metadata": {},
   "outputs": [
    {
     "data": {
      "text/plain": [
       "(array([-0.02253662, -0.02206762,  0.00824146,  0.02716598], dtype=float32),\n",
       " {})"
      ]
     },
     "execution_count": 7,
     "metadata": {},
     "output_type": "execute_result"
    }
   ],
   "source": [
    "env = gym.make(\"CartPole-v1\",render_mode=\"human\")\n",
    "env.reset()"
   ]
  },
  {
   "cell_type": "markdown",
   "id": "fce3543e-113a-450c-ac4b-ce3bffdeddb5",
   "metadata": {},
   "source": [
    "### Exercice 1"
   ]
  },
  {
   "cell_type": "code",
   "execution_count": 9,
   "id": "934aec0c-3c8e-458a-8cd1-f38c78a289b9",
   "metadata": {
    "scrolled": true
   },
   "outputs": [
    {
     "name": "stdout",
     "output_type": "stream",
     "text": [
      "Espace d'action :Discrete(2)\n",
      "Espace d'observation :Box([-4.8               -inf -0.41887903        -inf], [4.8               inf 0.41887903        inf], (4,), float32)\n",
      "Action : 0, Observation : [-0.02297797 -0.21730678  0.00878478  0.32243773], Reward :1.0\n",
      "Action : 1, Observation : [-0.0273241  -0.02231102  0.01523354  0.03253808], Reward :1.0\n",
      "Action : 0, Observation : [-0.02777032 -0.21764807  0.0158843   0.32998815], Reward :1.0\n",
      "Action : 1, Observation : [-0.03212329 -0.0227558   0.02248406  0.04235641], Reward :1.0\n",
      "Action : 0, Observation : [-0.0325784  -0.21819283  0.02333119  0.3420476 ], Reward :1.0\n",
      "Action : 0, Observation : [-0.03694226 -0.41363883  0.03017214  0.64199555], Reward :1.0\n",
      "Action : 0, Observation : [-0.04521503 -0.60916805  0.04301205  0.9440252 ], Reward :1.0\n",
      "Action : 1, Observation : [-0.0573984  -0.41465116  0.06189256  0.6651613 ], Reward :1.0\n",
      "Action : 0, Observation : [-0.06569142 -0.6105769   0.07519578  0.97667205], Reward :1.0\n",
      "Action : 1, Observation : [-0.07790296 -0.41653952  0.09472922  0.7085252 ], Reward :1.0\n",
      "Action : 0, Observation : [-0.08623375 -0.6128371   0.10889973  1.0294602 ], Reward :1.0\n",
      "Action : 0, Observation : [-0.09849049 -0.8092264   0.12948893  1.3542523 ], Reward :1.0\n",
      "Action : 1, Observation : [-0.11467502 -0.6159456   0.15657398  1.1047218 ], Reward :1.0\n",
      "Action : 1, Observation : [-0.12699392 -0.4231899   0.17866841  0.86497   ], Reward :1.0\n",
      "Action : 0, Observation : [-0.13545772 -0.6202349   0.19596782  1.208082  ], Reward :1.0\n",
      "Action : 0, Observation : [-0.14786242 -0.81727207  0.22012946  1.5552272 ], Reward :1.0\n",
      "Action : 0, Observation : [ 0.02098953 -0.18504165 -0.01422359  0.3269157 ], Reward :1.0\n",
      "Action : 0, Observation : [ 0.0172887  -0.37995824 -0.00768527  0.61507946], Reward :1.0\n",
      "Action : 1, Observation : [ 0.00968954 -0.18472975  0.00461632  0.31998593], Reward :1.0\n",
      "Action : 1, Observation : [0.00599494 0.01032616 0.01101603 0.02876237], Reward :1.0\n",
      "Action : 0, Observation : [ 0.00620146 -0.18495202  0.01159128  0.3249005 ], Reward :1.0\n",
      "Action : 1, Observation : [0.00250242 0.01000298 0.01808929 0.03589541], Reward :1.0\n",
      "Action : 1, Observation : [ 0.00270248  0.20486093  0.0188072  -0.2510257 ], Reward :1.0\n",
      "Action : 1, Observation : [ 0.0067997   0.3997093   0.01378669 -0.53771764], Reward :1.0\n",
      "Action : 0, Observation : [ 0.01479389  0.20439628  0.00303233 -0.24072278], Reward :1.0\n",
      "Action : 0, Observation : [ 0.01888181  0.00923115 -0.00178212  0.0529151 ], Reward :1.0\n",
      "Action : 0, Observation : [ 0.01906644 -0.18586521 -0.00072382  0.34503523], Reward :1.0\n",
      "Action : 0, Observation : [ 0.01534913 -0.38097686  0.00617688  0.6374898 ], Reward :1.0\n",
      "Action : 1, Observation : [ 0.00772959 -0.18594158  0.01892668  0.34675846], Reward :1.0\n",
      "Action : 1, Observation : [0.00401076 0.00890611 0.02586185 0.06010339], Reward :1.0\n",
      "Action : 1, Observation : [ 0.00418889  0.2036479   0.02706392 -0.22430907], Reward :1.0\n",
      "Action : 1, Observation : [ 0.00826184  0.3983728   0.02257773 -0.5083336 ], Reward :1.0\n",
      "Action : 0, Observation : [ 0.0162293   0.20294014  0.01241106 -0.20862207], Reward :1.0\n",
      "Action : 0, Observation : [0.0202881  0.00764294 0.00823862 0.08794992], Reward :1.0\n",
      "Action : 0, Observation : [ 0.02044096 -0.18759613  0.00999762  0.3832207 ], Reward :1.0\n",
      "Action : 0, Observation : [ 0.01668904 -0.3828586   0.01766203  0.679039  ], Reward :1.0\n",
      "Action : 1, Observation : [ 0.00903187 -0.18798639  0.03124281  0.39196867], Reward :1.0\n",
      "Action : 1, Observation : [0.00527214 0.00667857 0.03908219 0.10929763], Reward :1.0\n",
      "Action : 0, Observation : [ 0.00540571 -0.188981    0.04126814  0.4140501 ], Reward :1.0\n",
      "Action : 1, Observation : [0.00162609 0.00553246 0.04954914 0.13465774], Reward :1.0\n",
      "Action : 0, Observation : [ 0.00173674 -0.19026291  0.0522423   0.44255182], Reward :1.0\n",
      "Action : 1, Observation : [-0.00206852  0.00408236  0.06109333  0.16678388], Reward :1.0\n",
      "Action : 0, Observation : [-0.00198687 -0.19185847  0.06442901  0.47809708], Reward :1.0\n",
      "Action : 1, Observation : [-0.00582404  0.00229749  0.07399096  0.20639642], Reward :1.0\n",
      "Action : 1, Observation : [-0.00577809  0.19628768  0.07811888 -0.0620592 ], Reward :1.0\n",
      "Action : 1, Observation : [-0.00185234  0.3902077   0.0768777  -0.32910857], Reward :1.0\n",
      "Action : 1, Observation : [ 0.00595182  0.58415586  0.07029553 -0.5965917 ], Reward :1.0\n",
      "Action : 0, Observation : [ 0.01763493  0.38812426  0.05836369 -0.28262064], Reward :1.0\n",
      "Action : 1, Observation : [ 0.02539742  0.5823673   0.05271128 -0.55633986], Reward :1.0\n",
      "Action : 0, Observation : [ 0.03704476  0.38654646  0.04158448 -0.24752668], Reward :1.0\n",
      "Action : 1, Observation : [ 0.04477569  0.5810506   0.03663395 -0.5268084 ], Reward :1.0\n",
      "Action : 0, Observation : [ 0.0563967   0.38543284  0.02609778 -0.22281064], Reward :1.0\n",
      "Action : 0, Observation : [0.06410536 0.18994778 0.02164157 0.07798897], Reward :1.0\n",
      "Action : 1, Observation : [ 0.06790432  0.38475293  0.02320135 -0.20778817], Reward :1.0\n",
      "Action : 0, Observation : [0.07559938 0.18930702 0.01904558 0.09212236], Reward :1.0\n",
      "Action : 0, Observation : [ 0.07938552 -0.00608266  0.02088803  0.3907528 ], Reward :1.0\n",
      "Action : 0, Observation : [ 0.07926387 -0.20149474  0.02870309  0.6899476 ], Reward :1.0\n",
      "Action : 0, Observation : [ 0.07523397 -0.397003    0.04250204  0.9915267 ], Reward :1.0\n",
      "Action : 1, Observation : [ 0.06729391 -0.2024748   0.06233257  0.7124898 ], Reward :1.0\n",
      "Action : 1, Observation : [ 0.06324441 -0.00826877  0.07658237  0.4400604 ], Reward :1.0\n",
      "Action : 0, Observation : [ 0.06307904 -0.20438628  0.08538358  0.75586766], Reward :1.0\n",
      "Action : 0, Observation : [ 0.05899131 -0.4005749   0.10050093  1.0741508 ], Reward :1.0\n",
      "Action : 0, Observation : [ 0.05097982 -0.59687096  0.12198395  1.3966067 ], Reward :1.0\n",
      "Action : 1, Observation : [ 0.03904239 -0.4034591   0.14991608  1.1444192 ], Reward :1.0\n",
      "Action : 0, Observation : [ 0.03097321 -0.60018706  0.17280446  1.4801116 ], Reward :1.0\n",
      "Action : 1, Observation : [ 0.01896947 -0.4075436   0.20240669  1.2460022 ], Reward :1.0\n",
      "Action : 0, Observation : [ 0.0108186  -0.6046025   0.22732674  1.5946584 ], Reward :1.0\n",
      "Action : 0, Observation : [ 0.00832236 -0.17157014 -0.00107285  0.29928565], Reward :1.0\n",
      "Action : 1, Observation : [0.00489096 0.02356709 0.00491287 0.00626456], Reward :1.0\n",
      "Action : 1, Observation : [ 0.0053623   0.21861823  0.00503816 -0.28486425], Reward :1.0\n",
      "Action : 0, Observation : [ 0.00973466  0.02342479 -0.00065913  0.00940341], Reward :1.0\n",
      "Action : 1, Observation : [ 0.01020316  0.2185562  -0.00047106 -0.2834874 ], Reward :1.0\n",
      "Action : 1, Observation : [ 0.01457428  0.41368484 -0.00614081 -0.57631886], Reward :1.0\n",
      "Action : 0, Observation : [ 0.02284798  0.21864952 -0.01766719 -0.28557676], Reward :1.0\n",
      "Action : 1, Observation : [ 0.02722097  0.41401893 -0.02337872 -0.58377904], Reward :1.0\n",
      "Action : 0, Observation : [ 0.03550135  0.21923216 -0.0350543  -0.2985514 ], Reward :1.0\n",
      "Action : 1, Observation : [ 0.03988599  0.41483578 -0.04102533 -0.60208046], Reward :1.0\n",
      "Action : 0, Observation : [ 0.04818271  0.22031099 -0.05306694 -0.32259685], Reward :1.0\n",
      "Action : 1, Observation : [ 0.05258892  0.41614687 -0.05951888 -0.63153154], Reward :1.0\n",
      "Action : 1, Observation : [ 0.06091186  0.61204654 -0.07214951 -0.9423489 ], Reward :1.0\n",
      "Action : 0, Observation : [ 0.0731528   0.41796705 -0.09099648 -0.67318064], Reward :1.0\n",
      "Action : 0, Observation : [ 0.08151214  0.22421983 -0.1044601  -0.41047823], Reward :1.0\n",
      "Action : 1, Observation : [ 0.08599653  0.4206556  -0.11266966 -0.7341812 ], Reward :1.0\n",
      "Action : 0, Observation : [ 0.09440964  0.22725561 -0.12735328 -0.47897545], Reward :1.0\n",
      "Action : 1, Observation : [ 0.09895476  0.42392376 -0.13693279 -0.8089293 ], Reward :1.0\n",
      "Action : 0, Observation : [ 0.10743323  0.23091717 -0.15311138 -0.562262  ], Reward :1.0\n",
      "Action : 1, Observation : [ 0.11205158  0.42781863 -0.16435662 -0.898998  ], Reward :1.0\n",
      "Action : 0, Observation : [ 0.12060795  0.23525977 -0.18233658 -0.66215575], Reward :1.0\n",
      "Action : 1, Observation : [ 0.12531315  0.4323873  -0.1955797  -1.0062557 ], Reward :1.0\n",
      "Action : 0, Observation : [ 0.13396089  0.24033798 -0.21570481 -0.7808084 ], Reward :1.0\n",
      "Action : 0, Observation : [ 0.03458891 -0.23996842  0.04087887  0.28660065], Reward :1.0\n",
      "Action : 0, Observation : [ 0.02978954 -0.4356488   0.04661088  0.59189105], Reward :1.0\n",
      "Action : 0, Observation : [ 0.02107657 -0.6313912   0.0584487   0.8988844 ], Reward :1.0\n",
      "Action : 1, Observation : [ 0.00844874 -0.43710807  0.07642639  0.6251315 ], Reward :1.0\n",
      "Action : 1, Observation : [-2.9341853e-04 -2.4313155e-01  8.8929020e-02  3.5746354e-01], Reward :1.0\n",
      "Action : 1, Observation : [-0.00515605 -0.04937901  0.09607829  0.09409386], Reward :1.0\n",
      "Action : 1, Observation : [-0.00614363  0.14424396  0.09796017 -0.16679753], Reward :1.0\n",
      "Action : 1, Observation : [-0.00325875  0.33783713  0.09462421 -0.42704085], Reward :1.0\n",
      "Action : 1, Observation : [ 0.00349799  0.53150046  0.0860834  -0.68845826], Reward :1.0\n",
      "Action : 1, Observation : [ 0.014128    0.7253288   0.07231423 -0.95284694], Reward :1.0\n"
     ]
    }
   ],
   "source": [
    "print(f\"Espace d'action :{env.action_space}\")\n",
    "print(f\"Espace d'observation :{env.observation_space}\")\n",
    "\n",
    "for _ in range(100):\n",
    "    action = env.action_space.sample()\n",
    "    observation, reward, done, _, _ = env.step(action)\n",
    "    print(f\"Action : {action}, Observation : {observation}, Reward :{reward}\")\n",
    "    if done:\n",
    "        env.reset()\n",
    "\n",
    "env.close()"
   ]
  },
  {
   "cell_type": "markdown",
   "id": "7abe3bcf-f321-47ea-9ac2-bd5b367f5850",
   "metadata": {},
   "source": [
    "### Exercice 2"
   ]
  },
  {
   "cell_type": "code",
   "execution_count": 11,
   "id": "0cc38366-133f-4c90-86b3-feccd2369cc5",
   "metadata": {},
   "outputs": [],
   "source": [
    "env = gym.make(\"CartPole-v1\", render_mode=\"human\")\n",
    "\n",
    "observation, info = env.reset()\n",
    "done = False\n",
    "\n",
    "while not done:\n",
    "    action = env.action_space.sample()  # Action aléatoire\n",
    "    observation, reward, done, _, _ = env.step(action)\n",
    "    env.render()\n",
    "\n",
    "env.close()"
   ]
  },
  {
   "cell_type": "code",
   "execution_count": 13,
   "id": "a3e088e6-f5fb-4fc0-9ddf-bf6800466407",
   "metadata": {
    "scrolled": true
   },
   "outputs": [
    {
     "name": "stdout",
     "output_type": "stream",
     "text": [
      "Observation : [-0.21877782 -0.4011782   0.21753179  0.749062  ], Reward : 1.0, Done : True\n"
     ]
    }
   ],
   "source": [
    "print(f\"Observation : {observation}, Reward : {reward}, Done : {done}\")"
   ]
  },
  {
   "cell_type": "code",
   "execution_count": 15,
   "id": "db76c0c7-3609-411e-9b08-3d98fd8d56cf",
   "metadata": {},
   "outputs": [
    {
     "name": "stdin",
     "output_type": "stream",
     "text": [
      "Entrez une action (0 ou 1) :  0\n"
     ]
    }
   ],
   "source": [
    "env = gym.make(\"CartPole-v1\", render_mode=\"human\")\n",
    "action = int(input(\"Entrez une action (0 ou 1) : \"))\n",
    "observation, info = env.reset()\n",
    "done = False\n",
    "\n",
    "while not done:\n",
    "   # Action aléatoire\n",
    "    observation, reward, done, _, _ = env.step(action)\n",
    "    env.render()\n",
    "\n",
    "env.close()\n"
   ]
  },
  {
   "cell_type": "code",
   "execution_count": 17,
   "id": "f9ebea66-57a5-495a-b0c8-8f72d2eda9a7",
   "metadata": {},
   "outputs": [
    {
     "name": "stdout",
     "output_type": "stream",
     "text": [
      "Observation : [-0.14340636 -1.9695604   0.22665153  3.0275724 ], Reward : 1.0, Done : True\n"
     ]
    }
   ],
   "source": [
    "print(f\"Observation : {observation}, Reward : {reward}, Done : {done}\")"
   ]
  },
  {
   "cell_type": "code",
   "execution_count": 21,
   "id": "2c6eb2c2-2af8-4be9-8bd3-b4348176b059",
   "metadata": {},
   "outputs": [
    {
     "name": "stdin",
     "output_type": "stream",
     "text": [
      "Entrez une action (0 ou 1) :  0\n"
     ]
    },
    {
     "name": "stdout",
     "output_type": "stream",
     "text": [
      "Observation : [-0.03915656 -0.16792312 -0.02789979  0.2379267 ], Reward : 1.0, Done : False\n"
     ]
    },
    {
     "name": "stdin",
     "output_type": "stream",
     "text": [
      "Entrez une action (0 ou 1) :  1\n"
     ]
    },
    {
     "name": "stdout",
     "output_type": "stream",
     "text": [
      "Observation : [-0.04251502  0.02758607 -0.02314125 -0.06342443], Reward : 1.0, Done : False\n"
     ]
    },
    {
     "name": "stdin",
     "output_type": "stream",
     "text": [
      "Entrez une action (0 ou 1) :  1\n"
     ]
    },
    {
     "name": "stdout",
     "output_type": "stream",
     "text": [
      "Observation : [-0.04196331  0.22303203 -0.02440974 -0.36331782], Reward : 1.0, Done : False\n"
     ]
    },
    {
     "name": "stdin",
     "output_type": "stream",
     "text": [
      "Entrez une action (0 ou 1) :  1\n"
     ]
    },
    {
     "name": "stdout",
     "output_type": "stream",
     "text": [
      "Observation : [-0.03750267  0.41849226 -0.0316761  -0.6635966 ], Reward : 1.0, Done : False\n"
     ]
    },
    {
     "name": "stdin",
     "output_type": "stream",
     "text": [
      "Entrez une action (0 ou 1) :  1\n"
     ]
    },
    {
     "name": "stdout",
     "output_type": "stream",
     "text": [
      "Observation : [-0.02913282  0.6140402  -0.04494803 -0.9660826 ], Reward : 1.0, Done : False\n"
     ]
    },
    {
     "name": "stdin",
     "output_type": "stream",
     "text": [
      "Entrez une action (0 ou 1) :  1\n"
     ]
    },
    {
     "name": "stdout",
     "output_type": "stream",
     "text": [
      "Observation : [-0.01685201  0.8097361  -0.06426968 -1.2725402 ], Reward : 1.0, Done : False\n"
     ]
    },
    {
     "name": "stdin",
     "output_type": "stream",
     "text": [
      "Entrez une action (0 ou 1) :  1\n"
     ]
    },
    {
     "name": "stdout",
     "output_type": "stream",
     "text": [
      "Observation : [-6.5729202e-04  1.0056167e+00 -8.9720488e-02 -1.5846367e+00], Reward : 1.0, Done : False\n"
     ]
    },
    {
     "name": "stdin",
     "output_type": "stream",
     "text": [
      "Entrez une action (0 ou 1) :  1\n"
     ]
    },
    {
     "name": "stdout",
     "output_type": "stream",
     "text": [
      "Observation : [ 0.01945504  1.2016838  -0.12141322 -1.9038968 ], Reward : 1.0, Done : False\n"
     ]
    },
    {
     "name": "stdin",
     "output_type": "stream",
     "text": [
      "Entrez une action (0 ou 1) :  1\n"
     ]
    },
    {
     "name": "stdout",
     "output_type": "stream",
     "text": [
      "Observation : [ 0.04348871  1.3978909  -0.15949115 -2.231649  ], Reward : 1.0, Done : False\n"
     ]
    },
    {
     "name": "stdin",
     "output_type": "stream",
     "text": [
      "Entrez une action (0 ou 1) :  1\n"
     ]
    },
    {
     "name": "stdout",
     "output_type": "stream",
     "text": [
      "Observation : [ 0.07144654  1.5941279  -0.20412414 -2.5689602 ], Reward : 1.0, Done : False\n"
     ]
    },
    {
     "name": "stdin",
     "output_type": "stream",
     "text": [
      "Entrez une action (0 ou 1) :  1\n"
     ]
    },
    {
     "name": "stdout",
     "output_type": "stream",
     "text": [
      "Observation : [ 0.10332909  1.7902019  -0.25550333 -2.9165618 ], Reward : 1.0, Done : True\n"
     ]
    }
   ],
   "source": [
    "env = gym.make(\"CartPole-v1\", render_mode=\"human\")\n",
    "\n",
    "observation, info = env.reset()\n",
    "done = False\n",
    "while not done:\n",
    "    action = int(input(\"Entrez une action (0 ou 1) : \"))\n",
    "    observation, reward, done, _, _ = env.step(action)\n",
    "    print(f\"Observation : {observation}, Reward : {reward}, Done : {done}\")"
   ]
  },
  {
   "cell_type": "markdown",
   "id": "1b42a900-dd76-4a19-a5ad-92994cb65c3a",
   "metadata": {},
   "source": [
    "### Exercice 3"
   ]
  },
  {
   "cell_type": "code",
   "execution_count": 23,
   "id": "5ee439e5-e472-45a1-86b8-fcc60744fea0",
   "metadata": {},
   "outputs": [
    {
     "name": "stdin",
     "output_type": "stream",
     "text": [
      "Entrez une action (0 ou 1) :  1\n",
      "Entrez une action (0 ou 1) :  1\n",
      "Entrez une action (0 ou 1) :  1\n",
      "Entrez une action (0 ou 1) :  1\n",
      "Entrez une action (0 ou 1) :  1\n",
      "Entrez une action (0 ou 1) :  1\n",
      "Entrez une action (0 ou 1) :  1\n",
      "Entrez une action (0 ou 1) :  1\n"
     ]
    },
    {
     "name": "stdout",
     "output_type": "stream",
     "text": [
      "Durée de l'épisode : 8 étapes\n"
     ]
    }
   ],
   "source": [
    "env = gym.make(\"CartPole-v1\", render_mode=\"human\")\n",
    "bservation, info = env.reset()\n",
    "steps = 0\n",
    "done = False\n",
    "while not done:\n",
    "    action = int(input(\"Entrez une action (0 ou 1) : \"))\n",
    "    observation, reward, done, _, _ = env.step(action)\n",
    "    steps += 1\n",
    "print(f\"Durée de l'épisode : {steps} étapes\")"
   ]
  },
  {
   "cell_type": "code",
   "execution_count": 25,
   "id": "5e09d34c-9f5c-4adc-be47-f43fce288232",
   "metadata": {},
   "outputs": [
    {
     "name": "stdout",
     "output_type": "stream",
     "text": [
      "Épisode 1, Durée : 19 étapes\n",
      "Épisode 2, Durée : 25 étapes\n",
      "Épisode 3, Durée : 46 étapes\n",
      "Épisode 4, Durée : 29 étapes\n",
      "Épisode 5, Durée : 24 étapes\n",
      "Épisode 6, Durée : 21 étapes\n",
      "Épisode 7, Durée : 21 étapes\n",
      "Épisode 8, Durée : 13 étapes\n",
      "Épisode 9, Durée : 13 étapes\n",
      "Épisode 10, Durée : 15 étapes\n",
      "Durée moyenne des épisodes : 22.6 étapes\n"
     ]
    }
   ],
   "source": [
    "num_episodes = 10\n",
    "total_steps = 0\n",
    "\n",
    "for episode in range(num_episodes):\n",
    "    done = False\n",
    "    steps = 0\n",
    "    env.reset()\n",
    "    while not done:\n",
    "        action = env.action_space.sample()\n",
    "        observation, reward, done, _, _ = env.step(action)\n",
    "        steps += 1\n",
    "    total_steps += steps\n",
    "    print(f\"Épisode {episode + 1}, Durée : {steps} étapes\")\n",
    "\n",
    "average_steps = total_steps / num_episodes\n",
    "print(f\"Durée moyenne des épisodes : {average_steps} étapes\")"
   ]
  },
  {
   "cell_type": "code",
   "execution_count": null,
   "id": "e3baa4ad-f96d-441b-8f0b-33c15286fa6c",
   "metadata": {},
   "outputs": [],
   "source": []
  }
 ],
 "metadata": {
  "kernelspec": {
   "display_name": "Python 3 (ipykernel)",
   "language": "python",
   "name": "python3"
  },
  "language_info": {
   "codemirror_mode": {
    "name": "ipython",
    "version": 3
   },
   "file_extension": ".py",
   "mimetype": "text/x-python",
   "name": "python",
   "nbconvert_exporter": "python",
   "pygments_lexer": "ipython3",
   "version": "3.12.4"
  }
 },
 "nbformat": 4,
 "nbformat_minor": 5
}
